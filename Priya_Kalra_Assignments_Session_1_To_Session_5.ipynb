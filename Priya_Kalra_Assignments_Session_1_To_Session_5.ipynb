{
 "cells": [
  {
   "cell_type": "markdown",
   "metadata": {},
   "source": [
    "## 2.1. Problem Statement: PYTHON 1"
   ]
  },
  {
   "cell_type": "code",
   "execution_count": 1,
   "metadata": {},
   "outputs": [
    {
     "name": "stdout",
     "output_type": "stream",
     "text": [
      "subtract of 2 numbers is: 28\n"
     ]
    }
   ],
   "source": [
    "a = 32\n",
    "b = 60\n",
    "c = b-a\n",
    "print(\"subtract of 2 numbers is:\", c)"
   ]
  },
  {
   "cell_type": "markdown",
   "metadata": {},
   "source": [
    "#### 2. Write a program which will find all such numbers which are divisible by 7 but are not a multiple of 5, between 2000 and 3200 (both included). The numbers obtained should be printed in a comma-separated sequence on a single line."
   ]
  },
  {
   "cell_type": "code",
   "execution_count": 2,
   "metadata": {},
   "outputs": [
    {
     "name": "stdout",
     "output_type": "stream",
     "text": [
      "2030,2065,2100,2135,2170,2205,2240,2275,2310,2345,2380,2415,2450,2485,2520,2555,2590,2625,2660,2695,2730,2765,2800,2835,2870,2905,2940,2975,3010,3045,3080,3115,3150,3185\n"
     ]
    }
   ],
   "source": [
    "list1=[]\n",
    "for i in range(2000,3200):\n",
    "    if(i%7 == 0) and (i%5 ==0):\n",
    "        list1.append(str(i))\n",
    "print((',').join(list1))"
   ]
  },
  {
   "cell_type": "markdown",
   "metadata": {},
   "source": [
    "#### 3. Write a Python program to accept the user's first and last name and then getting them printed in the the reverse order with a space between first name and last name."
   ]
  },
  {
   "cell_type": "code",
   "execution_count": 3,
   "metadata": {},
   "outputs": [
    {
     "name": "stdout",
     "output_type": "stream",
     "text": [
      "Please Enter your First Name: Priya\n",
      "Please Enter your Last Name: Kalra\n",
      "Kalra Priya\n"
     ]
    }
   ],
   "source": [
    "first_name = input(\"Please Enter your First Name: \")\n",
    "last_name = input(\"Please Enter your Last Name: \")\n",
    "print(last_name +\" \"+first_name)"
   ]
  },
  {
   "cell_type": "markdown",
   "metadata": {},
   "source": [
    "#### 4. Write a Python program to find the volume of a sphere with diameter 12 cm. Formula: V=4/3 * π * r 3"
   ]
  },
  {
   "cell_type": "code",
   "execution_count": 4,
   "metadata": {},
   "outputs": [
    {
     "name": "stdout",
     "output_type": "stream",
     "text": [
      "Volume of Sphere: 904.7786842338603 cm\n"
     ]
    }
   ],
   "source": [
    "diameter = 12\n",
    "radius = diameter/2\n",
    "pi = 3.1415926535897931\n",
    "Volume = (4/3)*pi*(radius**3)\n",
    "print(\"Volume of Sphere: \" +str(Volume)+\" cm\") ## can print ceil value or exact value as well"
   ]
  },
  {
   "cell_type": "markdown",
   "metadata": {},
   "source": [
    "## 2.2. Problem Statement: PYTHON 2"
   ]
  },
  {
   "cell_type": "markdown",
   "metadata": {},
   "source": [
    "#### 1. Write a program which accepts a sequence of comma-separated numbers from console and generate a list."
   ]
  },
  {
   "cell_type": "code",
   "execution_count": 5,
   "metadata": {},
   "outputs": [
    {
     "name": "stdout",
     "output_type": "stream",
     "text": [
      "Enter Sequence of comma seperated numbers: 99,97,45,6,2,24,35,65,77,67,100\n",
      "User Generated List is:  ['99', '97', '45', '6', '2', '24', '35', '65', '77', '67', '100']\n"
     ]
    }
   ],
   "source": [
    "numbers = input(\"Enter Sequence of comma seperated numbers: \")\n",
    "numbers = numbers.split(',')\n",
    "print(\"User Generated List is: \", numbers)"
   ]
  },
  {
   "cell_type": "markdown",
   "metadata": {},
   "source": [
    "#### 2. Create the below pattern using nested for loop in Python."
   ]
  },
  {
   "cell_type": "code",
   "execution_count": 6,
   "metadata": {},
   "outputs": [
    {
     "name": "stdout",
     "output_type": "stream",
     "text": [
      "*\n",
      "**\n",
      "***\n",
      "****\n",
      "*****\n",
      "****\n",
      "***\n",
      "**\n",
      "*\n",
      "\n"
     ]
    }
   ],
   "source": [
    "for i in range(1,5,1): \n",
    "    for j in range(i):\n",
    "        print('*', end ='')\n",
    "    print('') \n",
    "for i in range(5,-1,-1):\n",
    "    for j in range(i):\n",
    "        print('*', end='')\n",
    "    print('') "
   ]
  },
  {
   "cell_type": "markdown",
   "metadata": {},
   "source": [
    "#### 3. Write a Python program to reverse a word after accepting the input from the user."
   ]
  },
  {
   "cell_type": "code",
   "execution_count": 7,
   "metadata": {},
   "outputs": [
    {
     "name": "stdout",
     "output_type": "stream",
     "text": [
      "Input word: AcadGild\n",
      "Output:  dliGdacA\n"
     ]
    }
   ],
   "source": [
    "result_string = input(\"Input word: \")\n",
    "print('Output: ',result_string[::-1])\n"
   ]
  },
  {
   "cell_type": "markdown",
   "metadata": {},
   "source": [
    "#### 4. Write a Python Program to print the given string in the format specified in the sample output."
   ]
  },
  {
   "cell_type": "code",
   "execution_count": 9,
   "metadata": {},
   "outputs": [
    {
     "name": "stdout",
     "output_type": "stream",
     "text": [
      "WE, THE PEOPLE OF INDIA,\n",
      "\thaving solemnly resolved to constitute India into a SOVEREIGN,!\n",
      "\t\tSOCIALIST, SECULAR, DEMOCRATIC \n",
      "\t\t REPUBLIC and to secure to all its citizens\n"
     ]
    }
   ],
   "source": [
    "given_string = \"WE, THE PEOPLE OF INDIA,{}having solemnly resolved to constitute India into a SOVEREIGN,{}SOCIALIST, SECULAR, DEMOCRATIC {} REPUBLIC and to secure to all its citizens\"\n",
    "print(given_string.format('\\n\\t','!\\n\\t\\t','\\n\\t\\t'))"
   ]
  },
  {
   "cell_type": "markdown",
   "metadata": {},
   "source": [
    "## 2.3. Problem Statement: PYTHON 3"
   ]
  },
  {
   "cell_type": "markdown",
   "metadata": {},
   "source": [
    "#### 1.1 Write a Python Program to implement your own myreduce() function which works exactly like Python's built-in function reduce()"
   ]
  },
  {
   "cell_type": "code",
   "execution_count": 10,
   "metadata": {},
   "outputs": [
    {
     "name": "stdout",
     "output_type": "stream",
     "text": [
      "Sum on list of items using custom myreduce function is: 13\n"
     ]
    }
   ],
   "source": [
    "## reduce function to calculate sum of numbers in list\n",
    "def myreduce(func1,list1):\n",
    "    result = list1[0]\n",
    "    for item in list1[1:]:\n",
    "       result = func1(result,item) \n",
    "    return result\n",
    "\n",
    "## Sum function\n",
    "def sum(x,y):\n",
    "    return x+y\n",
    "\n",
    "##Calling reduce function\n",
    "print('Sum on list of items using custom myreduce function is:',myreduce(sum,[1,3,4,5]))"
   ]
  },
  {
   "cell_type": "markdown",
   "metadata": {},
   "source": [
    "#### 1.2 Write a Python program to implement your own myfilter() function which works exactly like Python's built-in function filter()"
   ]
  },
  {
   "cell_type": "code",
   "execution_count": 11,
   "metadata": {},
   "outputs": [
    {
     "name": "stdout",
     "output_type": "stream",
     "text": [
      "Filter list of all positive numbers from list: [9, 45, 66]\n"
     ]
    }
   ],
   "source": [
    "## filter function to return all positive numbers\n",
    "def myfilter(func2, list2):\n",
    "    resultList = []\n",
    "    for item in list2:\n",
    "       if(func2(item)):\n",
    "           resultList.append(item) \n",
    "    return resultList\n",
    "\n",
    "## function to check poisitive numbers\n",
    "def checkPositive(n):\n",
    "    if(n>0):\n",
    "        return True\n",
    "    else:\n",
    "        return False\n",
    "    \n",
    "## Call filter function\n",
    "print('Filter list of all positive numbers from list:',myfilter(checkPositive,[9,0,45,-3,-4,66]))"
   ]
  },
  {
   "cell_type": "markdown",
   "metadata": {},
   "source": [
    "#### 2. Implement List comprehensions to produce the following lists."
   ]
  },
  {
   "cell_type": "code",
   "execution_count": 12,
   "metadata": {},
   "outputs": [
    {
     "name": "stdout",
     "output_type": "stream",
     "text": [
      "['A', 'C', 'A', 'D', 'G', 'I', 'L', 'D']\n"
     ]
    }
   ],
   "source": [
    "# Write List comprehensions to produce the following List ['A', 'C', 'A', 'D', 'G', 'I', ’L’, ‘ D’]\n",
    "result_set = 'ACADGILD'\n",
    "string1 = [i for i in result_set]\n",
    "print(str(string1))"
   ]
  },
  {
   "cell_type": "code",
   "execution_count": 13,
   "metadata": {},
   "outputs": [
    {
     "name": "stdout",
     "output_type": "stream",
     "text": [
      "['x', 'xx', 'xxx', 'xxxx', 'y', 'yy', 'yyy', 'yyyy', 'z', 'zz', 'zzz', 'zzzz']\n"
     ]
    }
   ],
   "source": [
    "# Write List comprehensions to produce the following List ['x', 'xx', 'xxx', 'xxxx', 'y', 'yy', 'yyy', 'yyyy', 'z', 'zz', 'zzz', 'zzzz']\n",
    "result_set=['x','y','z']\n",
    "string1 = [item*num for item in result_set for num in range(1,5) ]\n",
    "print(str(string1))"
   ]
  },
  {
   "cell_type": "code",
   "execution_count": 14,
   "metadata": {},
   "outputs": [
    {
     "name": "stdout",
     "output_type": "stream",
     "text": [
      "['x', 'y', 'z', 'xx', 'yy', 'zz', 'xxx', 'yyy', 'zzz', 'xxxx', 'yyyy', 'zzzz']\n"
     ]
    }
   ],
   "source": [
    "# Write List comprehensions to produce the following List ['x', 'y', 'z', 'xx', 'yy', 'zz', 'xxx', 'yyy', 'zzz', 'xxxx', 'yyyy', 'zzzz']\n",
    "result_set=['x','y','z']\n",
    "string1 = [item*num for num in range(1,5) for item in result_set ]\n",
    "print(str(string1))"
   ]
  },
  {
   "cell_type": "code",
   "execution_count": 15,
   "metadata": {},
   "outputs": [
    {
     "name": "stdout",
     "output_type": "stream",
     "text": [
      "[[2], [3], [4], [3], [4], [5], [4], [5], [6]]\n",
      "[[2, 3, 4], [3, 4, 5], [4, 5, 6], [5, 6, 7]]\n"
     ]
    }
   ],
   "source": [
    "# Write List comprehensions to produce the following List [[2], [3], [4], [3], [4], [5], [4], [5], [6]] [[2, 3, 4, 5], [3, 4, 5, 6],[4, 5, 6, 7], [5, 6, 7, 8]]\n",
    "result_set =[2,3,4]\n",
    "string11 = [[item+num] for item in result_set for num in range(0,3)]\n",
    "input = [2,3,4,5]\n",
    "string12 = [[item+num for item in result_set] for num in range(0,4)]\n",
    "print(str(string11))\n",
    "print(str(string12))"
   ]
  },
  {
   "cell_type": "code",
   "execution_count": 16,
   "metadata": {},
   "outputs": [
    {
     "name": "stdout",
     "output_type": "stream",
     "text": [
      "[(1, 1), (2, 1), (3, 1), (1, 2), (2, 2), (3, 2), (1, 3), (2, 3), (3, 3)]\n"
     ]
    }
   ],
   "source": [
    "# Write List comprehensions to produce the following List [(1, 1), (2, 1), (3, 1), (1, 2), (2, 2), (3, 2), (1, 3), (2, 3), (3, 3)]\n",
    "result_set =[1,2,3]\n",
    "string1= [(item,num)for num in range(1,4) for item in result_set ]\n",
    "print(str(string1))"
   ]
  },
  {
   "cell_type": "markdown",
   "metadata": {},
   "source": [
    "#### 3. Implement a function longestWord() that takes a list of words and returns the longest one.¶"
   ]
  },
  {
   "cell_type": "code",
   "execution_count": 18,
   "metadata": {},
   "outputs": [
    {
     "name": "stdout",
     "output_type": "stream",
     "text": [
      "GetTheLargestWordfromList\n"
     ]
    }
   ],
   "source": [
    "def find_longest_word(words_list):\n",
    "        word_len = []\n",
    "        for n in words_list:\n",
    "            word_len.append((len(n), n))\n",
    "        word_len.sort()\n",
    "        return word_len[-1][1]\n",
    "\n",
    "print(find_longest_word([\"GetTheLargestWordfromList\", \"Testing\", \"TestingpuzzlesandEnjy\"]))"
   ]
  },
  {
   "cell_type": "markdown",
   "metadata": {},
   "source": [
    "## 2.4. Problem Statement: PYTHON 4"
   ]
  },
  {
   "cell_type": "code",
   "execution_count": 2,
   "metadata": {},
   "outputs": [],
   "source": [
    "#### Function to take the length of the sides of triangle from user should be defined in the parent class and function to calculate the area should be defined in subclass."
   ]
  },
  {
   "cell_type": "code",
   "execution_count": 1,
   "metadata": {},
   "outputs": [
    {
     "name": "stdout",
     "output_type": "stream",
     "text": [
      "Enter first side of triangle: 3\n",
      "Enter second side of triangle: 4\n",
      "Enter third side of triangle: 5\n",
      "Area of Triangle is:  6.0\n"
     ]
    }
   ],
   "source": [
    "class AreaClass:\n",
    "    def __init__(self, side1,side2,side3):\n",
    "        self.side1 = side1\n",
    "        self.side2 = side2\n",
    "        self.side3 = side3\n",
    "class Calc(AreaClass):\n",
    "    def __init__(self,side1,side2,side3):\n",
    "            AreaClass.__init__(self,side1,side2,side3)\n",
    "    \n",
    "    def calculateArea(self):\n",
    "        self.s = (self.side1+self.side2+ self.side3)/2\n",
    "        self.CalAreaVal = (self.s*(self.s-self.side1)*(self.s-self.side2)*(self.s-self.side3)) ** 0.5\n",
    "        print(\"Area of Triangle is: \",str(self.CalAreaVal))\n",
    "        \n",
    "a = int(input('Enter first side of triangle: '))  \n",
    "b = int(input('Enter second side of triangle: '))    \n",
    "c = int(input('Enter third side of triangle: '))    \n",
    "obj = Calc(a,b,c)\n",
    "obj.calculateArea()"
   ]
  },
  {
   "cell_type": "code",
   "execution_count": 4,
   "metadata": {},
   "outputs": [],
   "source": [
    "#### 1.2 Write a function filter_long_words() that takes a list of words and an integer n and returns the list of words that are longer than n."
   ]
  },
  {
   "cell_type": "code",
   "execution_count": 2,
   "metadata": {},
   "outputs": [
    {
     "name": "stdout",
     "output_type": "stream",
     "text": [
      "Please input the list of words: wordcheck,testingisinprogress,test\n",
      "Please input an integer: 6\n",
      "The list of words greater than the integer is ['wordcheck', 'testingisinprogress']\n"
     ]
    }
   ],
   "source": [
    "## function to check words longer than n\n",
    "def filter_long_words(word_list,n):  \n",
    "    return [word for word in word_list if len(word) > n]\n",
    "    \n",
    "def main():\n",
    "    wordsToUse = input(\"Please input the list of words: \").split(',')\n",
    "    integerToUse = eval(input(\"Please input an integer: \"))\n",
    "    ConvertedValue_words = filter_long_words(wordsToUse,integerToUse)\n",
    "    print(\"The list of words greater than the integer is\",ConvertedValue_words)\n",
    "main()       \n",
    "\n"
   ]
  },
  {
   "cell_type": "code",
   "execution_count": 6,
   "metadata": {},
   "outputs": [],
   "source": [
    "#### 2.1 Write a Python program using function concept that maps list of words into a list of integers representing the lengths of the corresponding words."
   ]
  },
  {
   "cell_type": "code",
   "execution_count": 3,
   "metadata": {},
   "outputs": [
    {
     "name": "stdout",
     "output_type": "stream",
     "text": [
      "Please input the list of words: check,test,priyaaaa,tea,comeon,commonords\n",
      "List converted to length:  [5, 4, 8, 3, 6, 10]\n"
     ]
    }
   ],
   "source": [
    "def CovertInteger_List(listofwords):\n",
    "    ##return [len(word) for word in list]\n",
    "    return [len(singleword) for singleword in listofwords]\n",
    "\n",
    "def main():\n",
    "    wordsList = input(\"Please input the list of words: \").split(',')\n",
    "    integerList = CovertInteger_List(wordsList)\n",
    "    print(\"List converted to length: \",integerList)\n",
    "\n",
    "main()"
   ]
  },
  {
   "cell_type": "code",
   "execution_count": 8,
   "metadata": {},
   "outputs": [],
   "source": [
    "#### 2.2 Write a Python function which takes a character (i.e. a string of length 1) and returns True if it is a vowel, False otherwise."
   ]
  },
  {
   "cell_type": "code",
   "execution_count": 4,
   "metadata": {},
   "outputs": [
    {
     "name": "stdout",
     "output_type": "stream",
     "text": [
      "Enter a character: d\n",
      "False\n"
     ]
    }
   ],
   "source": [
    "def IsVowel(charVal):\n",
    "    defined_list_vowels = ('a','e','i','o','u','A','E','I','O','U')\n",
    "    if charVal not in defined_list_vowels:\n",
    "        return False\n",
    "    return True\n",
    "\n",
    "def main():\n",
    "    Input_char = input(\"Enter a character: \")\n",
    "    result_Value = IsVowel(Input_char)\n",
    "    print(result_Value)\n",
    "\n",
    "main()"
   ]
  },
  {
   "cell_type": "markdown",
   "metadata": {},
   "source": [
    "## 2.5. Problem Statement: PYTHON 5"
   ]
  },
  {
   "cell_type": "code",
   "execution_count": 5,
   "metadata": {},
   "outputs": [],
   "source": [
    "#### 1. Write a function to compute 5/0 and use try/except to catch the exceptions."
   ]
  },
  {
   "cell_type": "code",
   "execution_count": 6,
   "metadata": {},
   "outputs": [
    {
     "name": "stdout",
     "output_type": "stream",
     "text": [
      "Dividing number by Zero. Exception Found !!\n"
     ]
    }
   ],
   "source": [
    "def CheckException(x,y):\n",
    "    try:\n",
    "        result = x//y\n",
    "        print(\"Division of numbers : \",result)\n",
    "    except ZeroDivisionError:\n",
    "        print(\"Dividing number by Zero. Exception Found !!\")\n",
    "\n",
    "CheckException(5,0)"
   ]
  },
  {
   "cell_type": "code",
   "execution_count": 7,
   "metadata": {},
   "outputs": [],
   "source": [
    "#### 2. Implement a Python program to generate all sentences where subject is in [\"Americans\", \"Indians\"] and verb is in [\"Play\", \"watch\"] and the object is in [\"Baseball\",\"cricket\"]."
   ]
  },
  {
   "cell_type": "code",
   "execution_count": 8,
   "metadata": {},
   "outputs": [
    {
     "name": "stdout",
     "output_type": "stream",
     "text": [
      "['Americans  play Baseball', 'Americans  play Cricket', 'Americans  watch Baseball', 'Americans  watch Cricket', 'Indians play Baseball', 'Indians play Cricket', 'Indians watch Baseball', 'Indians watch Cricket']\n"
     ]
    }
   ],
   "source": [
    "subjects=[\"Americans \",\"Indians\"]\n",
    "verbs=[\"play\",\"watch\"]\n",
    "objects=[\"Baseball\",\"Cricket\"]\n",
    "\n",
    "list = [sub +' ' + vb +' '+ ob for sub in subjects for vb in verbs for ob in objects ]\n",
    "print(list)\n",
    "    \n",
    "## CreateSentence([\"Americans \",\"Indians\"],[\"play\",\"watch\"],[\"Baseball\",\"Cricket\"])"
   ]
  },
  {
   "cell_type": "code",
   "execution_count": null,
   "metadata": {},
   "outputs": [],
   "source": []
  }
 ],
 "metadata": {
  "kernelspec": {
   "display_name": "Python 3",
   "language": "python",
   "name": "python3"
  },
  "language_info": {
   "codemirror_mode": {
    "name": "ipython",
    "version": 3
   },
   "file_extension": ".py",
   "mimetype": "text/x-python",
   "name": "python",
   "nbconvert_exporter": "python",
   "pygments_lexer": "ipython3",
   "version": "3.6.7"
  }
 },
 "nbformat": 4,
 "nbformat_minor": 2
}
